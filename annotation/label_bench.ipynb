{
 "cells": [
  {
   "cell_type": "code",
   "execution_count": null,
   "metadata": {},
   "outputs": [],
   "source": [
    "from ultralytics import YOLOWorld\n",
    "import os\n",
    "from pycocotools.coco import COCO\n",
    "from tqdm import tqdm"
   ]
  },
  {
   "cell_type": "code",
   "execution_count": null,
   "metadata": {},
   "outputs": [],
   "source": [
    "videos_path = '/mnt/g/Github/video_summarizer/downloaded_videos'\n",
    "videos = [os.path.join(videos_path, file) for file in os.listdir(videos_path) if file.endswith('mp4')]\n",
    "batch_size = 100\n",
    "for video in videos:\n",
    "    label_path = os.path.join(os.path.dirname(video),os.path.basename(video).split('.')[0],'labels')\n",
    "    frames_path = os.path.join(os.path.dirname(video),os.path.basename(video).split('.')[0],'frames')\n",
    "    images = [os.path.join(frames_path,img) for img in os.listdir(frames_path) if img.endswith('.jpg')]\n",
    "    images = images[442:460]"
   ]
  },
  {
   "cell_type": "code",
   "execution_count": null,
   "metadata": {},
   "outputs": [],
   "source": [
    "len(images)"
   ]
  },
  {
   "cell_type": "code",
   "execution_count": null,
   "metadata": {},
   "outputs": [],
   "source": [
    "labels = '/mnt/g/Github/video_summarizer/downloaded_videos/Nightly_News_Full_Broadcast_-_April_15/labels/coco128.json'\n",
    "# explore using cocotools\n",
    "coco = COCO(labels)\n"
   ]
  },
  {
   "cell_type": "code",
   "execution_count": null,
   "metadata": {},
   "outputs": [],
   "source": [
    "import pickle\n",
    "data_path = '/mnt/g/Github/video_summarizer/downloaded_videos/Nightly_News_Full_Broadcast_-_April_15/labels/gender.data'\n",
    "with open(data_path, 'rb') as filehandle:\n",
    "    # read the data as binary data stream\n",
    "    data = pickle.load(filehandle)\n",
    "data"
   ]
  },
  {
   "cell_type": "code",
   "execution_count": null,
   "metadata": {},
   "outputs": [],
   "source": [
    "min_confidence = float('inf')\n",
    "min_index = None\n",
    "\n",
    "min_confidence = float('inf')  # Initialize minimum confidence to infinity\n",
    "min_item = None  # Initialize minimum item to None\n",
    "\n",
    "# Iterate over results\n",
    "for i in range(len(results)):\n",
    "    # Iterate over summaries in each result\n",
    "    for j in range(len(results[i].summary())):\n",
    "        # If current confidence is less than min_confidence, update min_confidence and min_item\n",
    "        if results[i].summary()[j]['confidence'] < min_confidence:\n",
    "            min_confidence = results[i].summary()[j]['confidence']\n",
    "            min_item = (i, j)\n",
    "\n",
    "print(f'The item with the lowest confidence is at index {min_item} with a confidence of {min_confidence}')\n",
    "\n"
   ]
  },
  {
   "cell_type": "code",
   "execution_count": null,
   "metadata": {},
   "outputs": [],
   "source": []
  },
  {
   "cell_type": "code",
   "execution_count": null,
   "metadata": {},
   "outputs": [],
   "source": []
  }
 ],
 "metadata": {
  "kernelspec": {
   "display_name": ".env",
   "language": "python",
   "name": "python3"
  },
  "language_info": {
   "codemirror_mode": {
    "name": "ipython",
    "version": 3
   },
   "file_extension": ".py",
   "mimetype": "text/x-python",
   "name": "python",
   "nbconvert_exporter": "python",
   "pygments_lexer": "ipython3",
   "version": "3.11.8"
  }
 },
 "nbformat": 4,
 "nbformat_minor": 2
}
